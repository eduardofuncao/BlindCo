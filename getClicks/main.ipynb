{
 "cells": [
  {
   "cell_type": "code",
   "execution_count": 1,
   "metadata": {},
   "outputs": [],
   "source": [
    "import random\n",
    "import numpy as np\n",
    "import pandas as pd\n",
    "import seaborn as sns\n",
    "import matplotlib.pyplot as plt\n"
   ]
  },
  {
   "cell_type": "code",
   "execution_count": 2,
   "metadata": {},
   "outputs": [
    {
     "name": "stdout",
     "output_type": "stream",
     "text": [
      "[[ 265  219]\n",
      " [1267  420]\n",
      " [ 639  692]\n",
      " [ 731  661]\n",
      " [ 250  760]\n",
      " [ 549  655]\n",
      " [ 304  746]\n",
      " [ 572  114]\n",
      " [ 894  694]\n",
      " [1183  590]\n",
      " [1034  127]\n",
      " [1163  626]\n",
      " [ 706  655]\n",
      " [ 315  257]\n",
      " [1263  223]\n",
      " [ 780  560]\n",
      " [1034  772]\n",
      " [ 845  296]\n",
      " [1140  482]\n",
      " [ 878  221]\n",
      " [ 106  119]\n",
      " [1001  699]\n",
      " [ 610  226]\n",
      " [ 506  732]\n",
      " [ 585   36]\n",
      " [   9    8]\n",
      " [ 828  776]\n",
      " [ 765  345]\n",
      " [ 631  310]\n",
      " [ 341  684]\n",
      " [1181  723]\n",
      " [ 143  686]\n",
      " [ 851  509]\n",
      " [ 665   68]\n",
      " [1178  348]\n",
      " [1232  143]\n",
      " [ 268  331]\n",
      " [1122  172]\n",
      " [1213  214]\n",
      " [ 928  645]\n",
      " [ 524  685]\n",
      " [1150  790]\n",
      " [1249  213]\n",
      " [ 220   12]\n",
      " [ 143  174]\n",
      " [1136  444]\n",
      " [1129  780]\n",
      " [ 585  173]\n",
      " [ 128  265]\n",
      " [  38  361]]\n"
     ]
    }
   ],
   "source": [
    "clicks = []\n",
    "for i in range(50):\n",
    "    x = int(1280*random.random())\n",
    "    y = int(800*random.random())\n",
    "    clicks.append([x,y])\n",
    "\n",
    "clicksArray = np.array(clicks)\n",
    "df = pd.DataFrame(np.array(clicks), columns=[\"X\",\"Y\"])\n",
    "print(clicksArray)"
   ]
  },
  {
   "cell_type": "code",
   "execution_count": 3,
   "metadata": {},
   "outputs": [
    {
     "data": {
      "text/plain": [
       "array([[1, 0, 0, ..., 0, 1, 0],\n",
       "       [0, 1, 1, ..., 1, 0, 0],\n",
       "       [1, 1, 0, ..., 0, 0, 1],\n",
       "       ...,\n",
       "       [2, 0, 0, ..., 1, 0, 0],\n",
       "       [1, 0, 1, ..., 0, 2, 1],\n",
       "       [0, 2, 0, ..., 0, 0, 0]])"
      ]
     },
     "execution_count": 3,
     "metadata": {},
     "output_type": "execute_result"
    }
   ],
   "source": [
    "clicks = np.array(1280*[800*[0]])\n",
    "for i in range(500000):\n",
    "    x = int(1280*random.random())\n",
    "    y = int(800*random.random())\n",
    "    clicks[x][y] += 1\n",
    "\n",
    "clicks"
   ]
  },
  {
   "cell_type": "code",
   "execution_count": 4,
   "metadata": {},
   "outputs": [],
   "source": [
    "clicks = np.array([[40,20,500,90],[60,14,200,30],[1000,100,4,0]])"
   ]
  },
  {
   "cell_type": "code",
   "execution_count": 6,
   "metadata": {},
   "outputs": [
    {
     "data": {
      "image/png": "[encoded data removed]",
      "text/plain": [
       "<Figure size 640x480 with 1 Axes>"
      ]
     },
     "metadata": {},
     "output_type": "display_data"
    }
   ],
   "source": [
    "fig, ax = plt.subplots()\n",
    "im = ax.imshow(clicks,interpolation=\"quadric\", cmap=\"cividis\")\n"
   ]
  },
  {
   "cell_type": "code",
   "execution_count": null,
   "metadata": {},
   "outputs": [],
   "source": []
  }
 ],
 "metadata": {
  "kernelspec": {
   "display_name": "Python 3",
   "language": "python",
   "name": "python3"
  },
  "language_info": {
   "codemirror_mode": {
    "name": "ipython",
    "version": 3
   },
   "file_extension": ".py",
   "mimetype": "text/x-python",
   "name": "python",
   "nbconvert_exporter": "python",
   "pygments_lexer": "ipython3",
   "version": "3.11.4"
  }
 },
 "nbformat": 4,
 "nbformat_minor": 2
}
