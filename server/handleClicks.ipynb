{
 "cells": [
  {
   "cell_type": "code",
   "execution_count": null,
   "metadata": {},
   "outputs": [],
   "source": [
    "import matplotlib.pyplot as plt"
   ]
  },
  {
   "cell_type": "code",
   "execution_count": 1,
   "metadata": {},
   "outputs": [],
   "source": [
    "clicks = [{'x': 431, 'y': 477}, {'x': 431, 'y': 477}, {'x': 431, 'y': 477}, {'x': 669, 'y': 453}, {'x': 79, 'y': 501}, {'x': 178, 'y': 485}, {'x': 372, 'y': 492}, {'x': 372, 'y': 492}, {'x': 372, 'y': 492}, {'x': 61, 'y': 553}, {'x': 565, 'y': 487}, {'x': 845, 'y': 372}, {'x': 845, 'y': 372}, {'x': 845, 'y': 372}, {'x': 845, 'y': 372}, {'x': 845, 'y': 372}, {'x': 1024, 'y': 389}, {'x': 1024, 'y': 389}, {'x': 1024, 'y': 389}, {'x': 1024, 'y': 389}, {'x': 636, 'y': 399}, {'x': 417, 'y': 364}, {'x': 417, 'y': 364}, {'x': 417, 'y': 364}, {'x': 417, 'y': 364}, {'x': 546, 'y': 363}, {'x': 688, 'y': 313}, {'x': 688, 'y': 398}, {'x': 688, 'y': 398}, {'x': 688, 'y': 398}, {'x': 688, 'y': 398}, {'x': 688, 'y': 398}, {'x': 688, 'y': 398}, {'x': 996, 'y': 361}, {'x': 996, 'y': 361}, {'x': 996, 'y': 361}, {'x': 996, 'y': 361}, {'x': 996, 'y': 361}, {'x': 996, 'y': 361}, {'x': 902, 'y': 396}, {'x': 958, 'y': 424}, {'x': 767, 'y': 380}, {'x': 910, 'y': 448}, {'x': 577, 'y': 384}]"
   ]
  }
 ],
 "metadata": {
  "kernelspec": {
   "display_name": "Python 3",
   "language": "python",
   "name": "python3"
  },
  "language_info": {
   "codemirror_mode": {
    "name": "ipython",
    "version": 3
   },
   "file_extension": ".py",
   "mimetype": "text/x-python",
   "name": "python",
   "nbconvert_exporter": "python",
   "pygments_lexer": "ipython3",
   "version": "3.11.4"
  }
 },
 "nbformat": 4,
 "nbformat_minor": 2
}
