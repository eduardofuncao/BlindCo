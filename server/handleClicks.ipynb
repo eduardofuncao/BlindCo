{
 "cells": [
  {
   "cell_type": "code",
   "execution_count": 1,
   "metadata": {},
   "outputs": [],
   "source": [
    "import numpy as np\n",
    "import matplotlib.pyplot as plt\n",
    "from scipy.ndimage import gaussian_filter\n"
   ]
  },
  {
   "cell_type": "code",
   "execution_count": 2,
   "metadata": {},
   "outputs": [],
   "source": [
    "clicks = [{'x': 10, 'y': 80}, {'x': 10, 'y': 80}, {'x': 10, 'y': 80}, {'x': 10, 'y': 80}, {'x': 1468, 'y': 83}, {'x': 1468, 'y': 83}, {'x': 1468, 'y': 83}, {'x': 1468, 'y': 83}, {'x': 1468, 'y': 83}, {'x': 1468, 'y': 812}, {'x': 1468, 'y': 812}, {'x': 1468, 'y': 812}, {'x': 1468, 'y': 812}, {'x': 1468, 'y': 812}]\n",
    "maxX = 0\n",
    "maxY = 0\n",
    "for click in clicks:\n",
    "    if click[\"x\"] > maxX:\n",
    "        maxX = click[\"x\"]\n",
    "    if click[\"y\"] > maxY:\n",
    "        maxY = click[\"y\"]\n",
    "\n",
    "# print(maxX, maxY)\n",
    "frame = np.zeros((maxX,maxY))\n",
    "\n",
    "for click in clicks:\n",
    "    # print(click['x'], click['y'])\n",
    "    frame[click['x']-1][click['y']-1] += 1\n",
    "frame = frame.transpose()\n",
    "frame = gaussian_filter(frame, sigma=25)"
   ]
  },
  {
   "cell_type": "code",
   "execution_count": 19,
   "metadata": {},
   "outputs": [
    {
     "data": {
      "image/png": "[encoded data removed]",
      "text/plain": [
       "<Figure size 640x480 with 1 Axes>"
      ]
     },
     "metadata": {},
     "output_type": "display_data"
    }
   ],
   "source": [
    "plt.figure()\n",
    "plt.imshow(frame, cmap='hot', interpolation='nearest')\n",
    "# plt.colorbar()\n",
    "plt.axis(\"off\")\n",
    "plt.subplots_adjust(top = 1, bottom = 0, right = 1, left = 0, hspace = 0, wspace = 0)\n",
    "plt.savefig(\"heatmap.png\",bbox_inches='tight')\n",
    "plt.show()"
   ]
  },
  {
   "cell_type": "code",
   "execution_count": 27,
   "metadata": {},
   "outputs": [],
   "source": [
    "img1 = Image.open(\"screen.png\")\n",
    "img2 = Image.open(\"heatmap.png\")\n",
    "\n",
    "img1 = img1.resize(img2.size)\n",
    "\n",
    "blended_image = Image.blend(img1, img2, alpha=0.5)\n",
    "blended_image.show()"
   ]
  }
 ],
 "metadata": {
  "kernelspec": {
   "display_name": "Python 3",
   "language": "python",
   "name": "python3"
  },
  "language_info": {
   "codemirror_mode": {
    "name": "ipython",
    "version": 3
   },
   "file_extension": ".py",
   "mimetype": "text/x-python",
   "name": "python",
   "nbconvert_exporter": "python",
   "pygments_lexer": "ipython3",
   "version": "3.11.4"
  }
 },
 "nbformat": 4,
 "nbformat_minor": 2
}
